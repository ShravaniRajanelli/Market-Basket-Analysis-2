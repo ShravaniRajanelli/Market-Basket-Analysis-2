{
 "cells": [
  {
   "cell_type": "code",
   "execution_count": 1,
   "id": "8eff4952-ae02-4e06-b15a-c85bea543dbe",
   "metadata": {},
   "outputs": [],
   "source": [
    "import pandas as pd\n",
    "import numpy as np\n",
    "import matplotlib.pyplot as plt\n",
    "%matplotlib inline"
   ]
  },
  {
   "cell_type": "code",
   "execution_count": 2,
   "id": "18f47180-d77a-4107-be72-3d3cfd943995",
   "metadata": {},
   "outputs": [
    {
     "name": "stdout",
     "output_type": "stream",
     "text": [
      "[WinError 123] The filename, directory name, or volume label syntax is incorrect: \"'C:\\\\Users\\\\srava\\\\github projects\\\\Market Basket Analysis\\\\Groceries'\"\n",
      "C:\\Users\\srava\\github projects\\Market Basket Analysis\\Groceries\n"
     ]
    }
   ],
   "source": [
    "import io\n",
    "%cd 'C:\\Users\\srava\\github projects\\Market Basket Analysis\\Groceries'"
   ]
  },
  {
   "cell_type": "code",
   "execution_count": 3,
   "id": "f258760d-b373-4430-8285-1befc9787d4f",
   "metadata": {},
   "outputs": [],
   "source": [
    "grocery=pd.read_csv(\"groceries - groceries.csv\")"
   ]
  },
  {
   "cell_type": "code",
   "execution_count": 4,
   "id": "e824d546-ce98-491c-9717-e2354ab1bb6c",
   "metadata": {},
   "outputs": [
    {
     "data": {
      "text/plain": [
       "(9835, 33)"
      ]
     },
     "execution_count": 4,
     "metadata": {},
     "output_type": "execute_result"
    }
   ],
   "source": [
    "grocery.shape"
   ]
  },
  {
   "cell_type": "code",
   "execution_count": 5,
   "id": "51712e0f-6582-4b4f-88c8-c9ea23e977be",
   "metadata": {},
   "outputs": [],
   "source": [
    "grocery=grocery.drop('Item(s)',axis=1) # Drop Col1 - Num of items in transaction"
   ]
  },
  {
   "cell_type": "code",
   "execution_count": 6,
   "id": "18f7e6fc-e8dc-4db9-a149-81f7104d2102",
   "metadata": {},
   "outputs": [],
   "source": [
    "l=[]\n",
    "for i in range(1,9835):\n",
    "    l.append([str(grocery.values[i,j]) for j in range(0,32)])"
   ]
  },
  {
   "cell_type": "code",
   "execution_count": 7,
   "id": "02d18375-b4fe-44c0-a496-1fc8dcbfe5ba",
   "metadata": {},
   "outputs": [],
   "source": [
    "from apyori import apriori"
   ]
  },
  {
   "cell_type": "code",
   "execution_count": 8,
   "id": "a9167997-8c22-42d9-b85e-5d8d3777d75d",
   "metadata": {},
   "outputs": [],
   "source": [
    "assoc_rules=apriori(l,min_support=0.003,min_confidence=0.50,min_lift=3)"
   ]
  },
  {
   "cell_type": "code",
   "execution_count": 9,
   "id": "e62f204a-765d-4559-8fdf-be23709feb3d",
   "metadata": {},
   "outputs": [],
   "source": [
    "assoc_rules=list(assoc_rules)"
   ]
  },
  {
   "cell_type": "code",
   "execution_count": 10,
   "id": "943846bd-285f-4d8c-b8bb-e671e21809da",
   "metadata": {},
   "outputs": [
    {
     "data": {
      "text/plain": [
       "101"
      ]
     },
     "execution_count": 10,
     "metadata": {},
     "output_type": "execute_result"
    }
   ],
   "source": [
    "len(assoc_rules)"
   ]
  },
  {
   "cell_type": "code",
   "execution_count": 11,
   "id": "048aee78-6469-4119-981d-807d7d6b6b8f",
   "metadata": {},
   "outputs": [
    {
     "data": {
      "text/plain": [
       "[RelationRecord(items=frozenset({'beef', 'tropical fruit', 'other vegetables'}), support=0.0044742729306487695, ordered_statistics=[OrderedStatistic(items_base=frozenset({'beef', 'tropical fruit'}), items_add=frozenset({'other vegetables'}), confidence=0.5866666666666667, lift=3.0316763005780345)]),\n",
       " RelationRecord(items=frozenset({'brown bread', 'whipped/sour cream', 'other vegetables'}), support=0.003050640634533252, ordered_statistics=[OrderedStatistic(items_base=frozenset({'brown bread', 'whipped/sour cream'}), items_add=frozenset({'other vegetables'}), confidence=0.6521739130434783, lift=3.3701935159587837)]),\n",
       " RelationRecord(items=frozenset({'pip fruit', 'butter milk', 'other vegetables'}), support=0.003254016676835469, ordered_statistics=[OrderedStatistic(items_base=frozenset({'butter milk', 'pip fruit'}), items_add=frozenset({'other vegetables'}), confidence=0.64, lift=3.3072832369942198)]),\n",
       " RelationRecord(items=frozenset({'sausage', 'chicken', 'other vegetables'}), support=0.0031523286556843604, ordered_statistics=[OrderedStatistic(items_base=frozenset({'sausage', 'chicken'}), items_add=frozenset({'other vegetables'}), confidence=0.5961538461538461, lift=3.0807025344597596)]),\n",
       " RelationRecord(items=frozenset({'yogurt', 'chicken', 'other vegetables'}), support=0.004881025015253203, ordered_statistics=[OrderedStatistic(items_base=frozenset({'yogurt', 'chicken'}), items_add=frozenset({'other vegetables'}), confidence=0.5853658536585366, lift=3.0249541801776396)])]"
      ]
     },
     "execution_count": 11,
     "metadata": {},
     "output_type": "execute_result"
    }
   ],
   "source": [
    "assoc_rules[0:5]"
   ]
  },
  {
   "cell_type": "code",
   "execution_count": 12,
   "id": "6ab29f75-9f8a-4eef-a911-e79383fbeedf",
   "metadata": {},
   "outputs": [],
   "source": [
    "from mlxtend.preprocessing import TransactionEncoder"
   ]
  },
  {
   "cell_type": "code",
   "execution_count": 13,
   "id": "d08346ed-70fb-479c-b0c5-f306e1134e55",
   "metadata": {},
   "outputs": [],
   "source": [
    "encoder=TransactionEncoder().fit(l)"
   ]
  },
  {
   "cell_type": "code",
   "execution_count": 14,
   "id": "d0ec9061-b6d8-45d7-adfa-ba0713810c16",
   "metadata": {},
   "outputs": [],
   "source": [
    "onehot=encoder.transform(l)"
   ]
  },
  {
   "cell_type": "code",
   "execution_count": 15,
   "id": "52e5e2ec-b9ea-4235-b847-7e0578a3895e",
   "metadata": {},
   "outputs": [],
   "source": [
    "transact_encode=pd.DataFrame(onehot,columns=encoder.columns_).drop('nan',axis=1)"
   ]
  },
  {
   "cell_type": "code",
   "execution_count": 16,
   "id": "cb9fe0cc-73d2-42cf-972c-fbf3c20c10be",
   "metadata": {},
   "outputs": [],
   "source": [
    "from mlxtend.frequent_patterns import apriori"
   ]
  },
  {
   "cell_type": "code",
   "execution_count": 17,
   "id": "e861c096-cf92-47c4-8e9c-dacb38ac56c0",
   "metadata": {},
   "outputs": [],
   "source": [
    "freq_items=apriori(transact_encode,min_support=0.003,max_len=3,use_colnames=True)"
   ]
  },
  {
   "cell_type": "code",
   "execution_count": 18,
   "id": "efc79214-8d42-4cb9-bf17-a47e36fa2894",
   "metadata": {},
   "outputs": [
    {
     "data": {
      "text/html": [
       "<div>\n",
       "<style scoped>\n",
       "    .dataframe tbody tr th:only-of-type {\n",
       "        vertical-align: middle;\n",
       "    }\n",
       "\n",
       "    .dataframe tbody tr th {\n",
       "        vertical-align: top;\n",
       "    }\n",
       "\n",
       "    .dataframe thead th {\n",
       "        text-align: right;\n",
       "    }\n",
       "</style>\n",
       "<table border=\"1\" class=\"dataframe\">\n",
       "  <thead>\n",
       "    <tr style=\"text-align: right;\">\n",
       "      <th></th>\n",
       "      <th>support</th>\n",
       "      <th>itemsets</th>\n",
       "    </tr>\n",
       "  </thead>\n",
       "  <tbody>\n",
       "    <tr>\n",
       "      <th>133</th>\n",
       "      <td>0.255542</td>\n",
       "      <td>(whole milk)</td>\n",
       "    </tr>\n",
       "    <tr>\n",
       "      <th>83</th>\n",
       "      <td>0.193512</td>\n",
       "      <td>(other vegetables)</td>\n",
       "    </tr>\n",
       "    <tr>\n",
       "      <th>98</th>\n",
       "      <td>0.183954</td>\n",
       "      <td>(rolls/buns)</td>\n",
       "    </tr>\n",
       "    <tr>\n",
       "      <th>111</th>\n",
       "      <td>0.174395</td>\n",
       "      <td>(soda)</td>\n",
       "    </tr>\n",
       "    <tr>\n",
       "      <th>134</th>\n",
       "      <td>0.139516</td>\n",
       "      <td>(yogurt)</td>\n",
       "    </tr>\n",
       "    <tr>\n",
       "      <th>9</th>\n",
       "      <td>0.110535</td>\n",
       "      <td>(bottled water)</td>\n",
       "    </tr>\n",
       "    <tr>\n",
       "      <th>99</th>\n",
       "      <td>0.109010</td>\n",
       "      <td>(root vegetables)</td>\n",
       "    </tr>\n",
       "    <tr>\n",
       "      <th>126</th>\n",
       "      <td>0.104942</td>\n",
       "      <td>(tropical fruit)</td>\n",
       "    </tr>\n",
       "    <tr>\n",
       "      <th>107</th>\n",
       "      <td>0.098536</td>\n",
       "      <td>(shopping bags)</td>\n",
       "    </tr>\n",
       "    <tr>\n",
       "      <th>104</th>\n",
       "      <td>0.093960</td>\n",
       "      <td>(sausage)</td>\n",
       "    </tr>\n",
       "  </tbody>\n",
       "</table>\n",
       "</div>"
      ],
      "text/plain": [
       "      support            itemsets\n",
       "133  0.255542        (whole milk)\n",
       "83   0.193512  (other vegetables)\n",
       "98   0.183954        (rolls/buns)\n",
       "111  0.174395              (soda)\n",
       "134  0.139516            (yogurt)\n",
       "9    0.110535     (bottled water)\n",
       "99   0.109010   (root vegetables)\n",
       "126  0.104942    (tropical fruit)\n",
       "107  0.098536     (shopping bags)\n",
       "104  0.093960           (sausage)"
      ]
     },
     "execution_count": 18,
     "metadata": {},
     "output_type": "execute_result"
    }
   ],
   "source": [
    "freq_items.sort_values(by=\"support\",ascending=False).head(10)"
   ]
  },
  {
   "cell_type": "code",
   "execution_count": 19,
   "id": "9b00f06f-29bc-4590-ab32-7b930bd7f1a3",
   "metadata": {},
   "outputs": [],
   "source": [
    "from mlxtend.frequent_patterns import association_rules"
   ]
  },
  {
   "cell_type": "code",
   "execution_count": 20,
   "id": "933637c3-1a3e-4c61-918a-1cee5c208288",
   "metadata": {},
   "outputs": [],
   "source": [
    "associate_rules=association_rules(freq_items,metric=\"lift\",min_threshold=3)"
   ]
  },
  {
   "cell_type": "code",
   "execution_count": 21,
   "id": "e4c9f0e0-00ce-458e-8254-559fd4ea198d",
   "metadata": {},
   "outputs": [
    {
     "name": "stdout",
     "output_type": "stream",
     "text": [
      "<class 'pandas.core.frame.DataFrame'>\n",
      "RangeIndex: 556 entries, 0 to 555\n",
      "Data columns (total 10 columns):\n",
      " #   Column              Non-Null Count  Dtype  \n",
      "---  ------              --------------  -----  \n",
      " 0   antecedents         556 non-null    object \n",
      " 1   consequents         556 non-null    object \n",
      " 2   antecedent support  556 non-null    float64\n",
      " 3   consequent support  556 non-null    float64\n",
      " 4   support             556 non-null    float64\n",
      " 5   confidence          556 non-null    float64\n",
      " 6   lift                556 non-null    float64\n",
      " 7   leverage            556 non-null    float64\n",
      " 8   conviction          556 non-null    float64\n",
      " 9   zhangs_metric       556 non-null    float64\n",
      "dtypes: float64(8), object(2)\n",
      "memory usage: 43.6+ KB\n"
     ]
    }
   ],
   "source": [
    "associate_rules.info()"
   ]
  },
  {
   "cell_type": "code",
   "execution_count": 22,
   "id": "b8d4a5a7-6068-4df3-a1b7-50e2966f9744",
   "metadata": {},
   "outputs": [
    {
     "data": {
      "text/html": [
       "<div>\n",
       "<style scoped>\n",
       "    .dataframe tbody tr th:only-of-type {\n",
       "        vertical-align: middle;\n",
       "    }\n",
       "\n",
       "    .dataframe tbody tr th {\n",
       "        vertical-align: top;\n",
       "    }\n",
       "\n",
       "    .dataframe thead th {\n",
       "        text-align: right;\n",
       "    }\n",
       "</style>\n",
       "<table border=\"1\" class=\"dataframe\">\n",
       "  <thead>\n",
       "    <tr style=\"text-align: right;\">\n",
       "      <th></th>\n",
       "      <th>antecedents</th>\n",
       "      <th>consequents</th>\n",
       "      <th>antecedent support</th>\n",
       "      <th>consequent support</th>\n",
       "      <th>support</th>\n",
       "      <th>confidence</th>\n",
       "      <th>lift</th>\n",
       "      <th>leverage</th>\n",
       "      <th>conviction</th>\n",
       "      <th>zhangs_metric</th>\n",
       "    </tr>\n",
       "  </thead>\n",
       "  <tbody>\n",
       "    <tr>\n",
       "      <th>0</th>\n",
       "      <td>(Instant food products)</td>\n",
       "      <td>(hamburger meat)</td>\n",
       "      <td>0.008033</td>\n",
       "      <td>0.033252</td>\n",
       "      <td>0.003051</td>\n",
       "      <td>0.379747</td>\n",
       "      <td>11.420276</td>\n",
       "      <td>0.002784</td>\n",
       "      <td>1.558635</td>\n",
       "      <td>0.919826</td>\n",
       "    </tr>\n",
       "    <tr>\n",
       "      <th>1</th>\n",
       "      <td>(hamburger meat)</td>\n",
       "      <td>(Instant food products)</td>\n",
       "      <td>0.033252</td>\n",
       "      <td>0.008033</td>\n",
       "      <td>0.003051</td>\n",
       "      <td>0.091743</td>\n",
       "      <td>11.420276</td>\n",
       "      <td>0.002784</td>\n",
       "      <td>1.092165</td>\n",
       "      <td>0.943820</td>\n",
       "    </tr>\n",
       "    <tr>\n",
       "      <th>25</th>\n",
       "      <td>(sugar)</td>\n",
       "      <td>(flour)</td>\n",
       "      <td>0.033862</td>\n",
       "      <td>0.017389</td>\n",
       "      <td>0.004983</td>\n",
       "      <td>0.147147</td>\n",
       "      <td>8.462252</td>\n",
       "      <td>0.004394</td>\n",
       "      <td>1.152146</td>\n",
       "      <td>0.912735</td>\n",
       "    </tr>\n",
       "    <tr>\n",
       "      <th>24</th>\n",
       "      <td>(flour)</td>\n",
       "      <td>(sugar)</td>\n",
       "      <td>0.017389</td>\n",
       "      <td>0.033862</td>\n",
       "      <td>0.004983</td>\n",
       "      <td>0.286550</td>\n",
       "      <td>8.462252</td>\n",
       "      <td>0.004394</td>\n",
       "      <td>1.354177</td>\n",
       "      <td>0.897433</td>\n",
       "    </tr>\n",
       "    <tr>\n",
       "      <th>29</th>\n",
       "      <td>(processed cheese)</td>\n",
       "      <td>(ham)</td>\n",
       "      <td>0.016575</td>\n",
       "      <td>0.026032</td>\n",
       "      <td>0.003051</td>\n",
       "      <td>0.184049</td>\n",
       "      <td>7.070073</td>\n",
       "      <td>0.002619</td>\n",
       "      <td>1.193660</td>\n",
       "      <td>0.873029</td>\n",
       "    </tr>\n",
       "    <tr>\n",
       "      <th>28</th>\n",
       "      <td>(ham)</td>\n",
       "      <td>(processed cheese)</td>\n",
       "      <td>0.026032</td>\n",
       "      <td>0.016575</td>\n",
       "      <td>0.003051</td>\n",
       "      <td>0.117188</td>\n",
       "      <td>7.070073</td>\n",
       "      <td>0.002619</td>\n",
       "      <td>1.113968</td>\n",
       "      <td>0.881506</td>\n",
       "    </tr>\n",
       "    <tr>\n",
       "      <th>36</th>\n",
       "      <td>(processed cheese)</td>\n",
       "      <td>(white bread)</td>\n",
       "      <td>0.016575</td>\n",
       "      <td>0.042099</td>\n",
       "      <td>0.004169</td>\n",
       "      <td>0.251534</td>\n",
       "      <td>5.974838</td>\n",
       "      <td>0.003471</td>\n",
       "      <td>1.279819</td>\n",
       "      <td>0.846665</td>\n",
       "    </tr>\n",
       "    <tr>\n",
       "      <th>37</th>\n",
       "      <td>(white bread)</td>\n",
       "      <td>(processed cheese)</td>\n",
       "      <td>0.042099</td>\n",
       "      <td>0.016575</td>\n",
       "      <td>0.004169</td>\n",
       "      <td>0.099034</td>\n",
       "      <td>5.974838</td>\n",
       "      <td>0.003471</td>\n",
       "      <td>1.091522</td>\n",
       "      <td>0.869225</td>\n",
       "    </tr>\n",
       "    <tr>\n",
       "      <th>2</th>\n",
       "      <td>(baking powder)</td>\n",
       "      <td>(sugar)</td>\n",
       "      <td>0.017694</td>\n",
       "      <td>0.033862</td>\n",
       "      <td>0.003254</td>\n",
       "      <td>0.183908</td>\n",
       "      <td>5.431086</td>\n",
       "      <td>0.002655</td>\n",
       "      <td>1.183859</td>\n",
       "      <td>0.830571</td>\n",
       "    </tr>\n",
       "    <tr>\n",
       "      <th>3</th>\n",
       "      <td>(sugar)</td>\n",
       "      <td>(baking powder)</td>\n",
       "      <td>0.033862</td>\n",
       "      <td>0.017694</td>\n",
       "      <td>0.003254</td>\n",
       "      <td>0.096096</td>\n",
       "      <td>5.431086</td>\n",
       "      <td>0.002655</td>\n",
       "      <td>1.086738</td>\n",
       "      <td>0.844470</td>\n",
       "    </tr>\n",
       "  </tbody>\n",
       "</table>\n",
       "</div>"
      ],
      "text/plain": [
       "                antecedents              consequents  antecedent support  \\\n",
       "0   (Instant food products)         (hamburger meat)            0.008033   \n",
       "1          (hamburger meat)  (Instant food products)            0.033252   \n",
       "25                  (sugar)                  (flour)            0.033862   \n",
       "24                  (flour)                  (sugar)            0.017389   \n",
       "29       (processed cheese)                    (ham)            0.016575   \n",
       "28                    (ham)       (processed cheese)            0.026032   \n",
       "36       (processed cheese)            (white bread)            0.016575   \n",
       "37            (white bread)       (processed cheese)            0.042099   \n",
       "2           (baking powder)                  (sugar)            0.017694   \n",
       "3                   (sugar)          (baking powder)            0.033862   \n",
       "\n",
       "    consequent support   support  confidence       lift  leverage  conviction  \\\n",
       "0             0.033252  0.003051    0.379747  11.420276  0.002784    1.558635   \n",
       "1             0.008033  0.003051    0.091743  11.420276  0.002784    1.092165   \n",
       "25            0.017389  0.004983    0.147147   8.462252  0.004394    1.152146   \n",
       "24            0.033862  0.004983    0.286550   8.462252  0.004394    1.354177   \n",
       "29            0.026032  0.003051    0.184049   7.070073  0.002619    1.193660   \n",
       "28            0.016575  0.003051    0.117188   7.070073  0.002619    1.113968   \n",
       "36            0.042099  0.004169    0.251534   5.974838  0.003471    1.279819   \n",
       "37            0.016575  0.004169    0.099034   5.974838  0.003471    1.091522   \n",
       "2             0.033862  0.003254    0.183908   5.431086  0.002655    1.183859   \n",
       "3             0.017694  0.003254    0.096096   5.431086  0.002655    1.086738   \n",
       "\n",
       "    zhangs_metric  \n",
       "0        0.919826  \n",
       "1        0.943820  \n",
       "25       0.912735  \n",
       "24       0.897433  \n",
       "29       0.873029  \n",
       "28       0.881506  \n",
       "36       0.846665  \n",
       "37       0.869225  \n",
       "2        0.830571  \n",
       "3        0.844470  "
      ]
     },
     "execution_count": 22,
     "metadata": {},
     "output_type": "execute_result"
    }
   ],
   "source": [
    "associate_rules.sort_values(by=\"lift\",ascending=False).head(10)"
   ]
  },
  {
   "cell_type": "code",
   "execution_count": null,
   "id": "e2361a91-3472-4ffa-8478-1251eeeafce7",
   "metadata": {},
   "outputs": [],
   "source": []
  }
 ],
 "metadata": {
  "kernelspec": {
   "display_name": "Python 3 (ipykernel)",
   "language": "python",
   "name": "python3"
  },
  "language_info": {
   "codemirror_mode": {
    "name": "ipython",
    "version": 3
   },
   "file_extension": ".py",
   "mimetype": "text/x-python",
   "name": "python",
   "nbconvert_exporter": "python",
   "pygments_lexer": "ipython3",
   "version": "3.11.5"
  }
 },
 "nbformat": 4,
 "nbformat_minor": 5
}
